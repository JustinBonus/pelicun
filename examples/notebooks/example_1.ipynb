{
 "cells": [
  {
   "cell_type": "markdown",
   "id": "d0a35013",
   "metadata": {},
   "source": [
    "# Example 1: Simple loss function."
   ]
  },
  {
   "cell_type": "markdown",
   "id": "14cf622b",
   "metadata": {
    "cell_marker": "\"\"\""
   },
   "source": [
    "In this example, a single loss function is defined as a 1:1 mapping of the input EDP.\n",
    "This means that the resulting loss distribution will be the same as the EDP distribution, allowing us to test and confirm that this is what happens."
   ]
  },
  {
   "cell_type": "code",
   "execution_count": 1,
   "id": "c20a35c3",
   "metadata": {
    "execution": {
     "iopub.execute_input": "2025-02-25T22:42:27.593671Z",
     "iopub.status.busy": "2025-02-25T22:42:27.593458Z",
     "iopub.status.idle": "2025-02-25T22:42:28.229842Z",
     "shell.execute_reply": "2025-02-25T22:42:28.229160Z"
    }
   },
   "outputs": [],
   "source": [
    "from __future__ import annotations\n",
    "\n",
    "import numpy as np\n",
    "import pandas as pd\n",
    "\n",
    "from pelicun import assessment, file_io"
   ]
  },
  {
   "cell_type": "code",
   "execution_count": 2,
   "id": "fc5e668b",
   "metadata": {
    "execution": {
     "iopub.execute_input": "2025-02-25T22:42:28.232315Z",
     "iopub.status.busy": "2025-02-25T22:42:28.232013Z",
     "iopub.status.idle": "2025-02-25T22:42:28.235232Z",
     "shell.execute_reply": "2025-02-25T22:42:28.234676Z"
    }
   },
   "outputs": [],
   "source": [
    "sample_size = 100000"
   ]
  },
  {
   "cell_type": "code",
   "execution_count": 3,
   "id": "a506fcf5",
   "metadata": {
    "execution": {
     "iopub.execute_input": "2025-02-25T22:42:28.237111Z",
     "iopub.status.busy": "2025-02-25T22:42:28.236908Z",
     "iopub.status.idle": "2025-02-25T22:42:28.241292Z",
     "shell.execute_reply": "2025-02-25T22:42:28.240779Z"
    }
   },
   "outputs": [],
   "source": [
    "# initialize a pelicun assessment\n",
    "asmnt = assessment.Assessment({'PrintLog': False, 'Seed': 42})"
   ]
  },
  {
   "cell_type": "code",
   "execution_count": 4,
   "id": "79e03ee8",
   "metadata": {
    "execution": {
     "iopub.execute_input": "2025-02-25T22:42:28.243256Z",
     "iopub.status.busy": "2025-02-25T22:42:28.242879Z",
     "iopub.status.idle": "2025-02-25T22:42:28.329805Z",
     "shell.execute_reply": "2025-02-25T22:42:28.329102Z"
    }
   },
   "outputs": [],
   "source": [
    "\n",
    "#\n",
    "# Demands\n",
    "#\n",
    "\n",
    "demands = pd.DataFrame(\n",
    "    {\n",
    "        'Theta_0': [0.50],\n",
    "        'Theta_1': [0.90],\n",
    "        'Family': ['lognormal'],\n",
    "        'Units': ['mps2'],\n",
    "    },\n",
    "    index=pd.MultiIndex.from_tuples(\n",
    "        [\n",
    "            ('PFA', '0', '1'),\n",
    "        ],\n",
    "    ),\n",
    ")\n",
    "\n",
    "asmnt.demand.load_model({'marginals': demands})\n",
    "\n",
    "asmnt.demand.generate_sample({'SampleSize': sample_size})\n",
    "\n",
    "#\n",
    "# Asset\n",
    "#\n",
    "\n",
    "asmnt.stories = 1\n",
    "\n",
    "cmp_marginals = pd.read_csv('example_1/CMP_marginals.csv', index_col=0)\n",
    "cmp_marginals['Blocks'] = cmp_marginals['Blocks']\n",
    "asmnt.asset.load_cmp_model({'marginals': cmp_marginals})\n",
    "\n",
    "asmnt.asset.generate_cmp_sample(sample_size)"
   ]
  },
  {
   "cell_type": "code",
   "execution_count": 5,
   "id": "409cf990",
   "metadata": {
    "execution": {
     "iopub.execute_input": "2025-02-25T22:42:28.332376Z",
     "iopub.status.busy": "2025-02-25T22:42:28.331842Z",
     "iopub.status.idle": "2025-02-25T22:42:28.334870Z",
     "shell.execute_reply": "2025-02-25T22:42:28.334308Z"
    }
   },
   "outputs": [],
   "source": [
    "#\n",
    "# Damage\n",
    "#\n",
    "\n",
    "# nothing to do here."
   ]
  },
  {
   "cell_type": "code",
   "execution_count": 6,
   "id": "ae61c0ac",
   "metadata": {
    "execution": {
     "iopub.execute_input": "2025-02-25T22:42:28.336711Z",
     "iopub.status.busy": "2025-02-25T22:42:28.336504Z",
     "iopub.status.idle": "2025-02-25T22:42:28.347367Z",
     "shell.execute_reply": "2025-02-25T22:42:28.346829Z"
    },
    "lines_to_next_cell": 0
   },
   "outputs": [],
   "source": [
    "#\n",
    "# Losses\n",
    "#\n",
    "\n",
    "asmnt.loss.decision_variables = ('Cost',)\n",
    "\n",
    "loss_map = pd.DataFrame(['cmp.A'], columns=['Repair'], index=['cmp.A'])\n",
    "asmnt.loss.add_loss_map(loss_map)\n",
    "\n",
    "loss_functions = file_io.load_data(\n",
    "    'example_1/loss_functions.csv',\n",
    "    reindex=False,\n",
    "    unit_conversion_factors=asmnt.unit_conversion_factors,\n",
    ")"
   ]
  },
  {
   "cell_type": "code",
   "execution_count": 7,
   "id": "408f1c9b",
   "metadata": {
    "execution": {
     "iopub.execute_input": "2025-02-25T22:42:28.349284Z",
     "iopub.status.busy": "2025-02-25T22:42:28.349099Z",
     "iopub.status.idle": "2025-02-25T22:42:28.352219Z",
     "shell.execute_reply": "2025-02-25T22:42:28.351679Z"
    },
    "lines_to_next_cell": 0,
    "nbsphinx": "hidden"
   },
   "outputs": [],
   "source": [
    "assert isinstance(loss_functions, pd.DataFrame)"
   ]
  },
  {
   "cell_type": "code",
   "execution_count": 8,
   "id": "03af9206",
   "metadata": {
    "execution": {
     "iopub.execute_input": "2025-02-25T22:42:28.354201Z",
     "iopub.status.busy": "2025-02-25T22:42:28.353829Z",
     "iopub.status.idle": "2025-02-25T22:42:28.449820Z",
     "shell.execute_reply": "2025-02-25T22:42:28.449077Z"
    },
    "lines_to_next_cell": 0
   },
   "outputs": [],
   "source": [
    "asmnt.loss.load_model_parameters([loss_functions])\n",
    "asmnt.loss.calculate()\n",
    "\n",
    "loss, _ = asmnt.loss.aggregate_losses(future=True)"
   ]
  },
  {
   "cell_type": "code",
   "execution_count": 9,
   "id": "051aaf24",
   "metadata": {
    "execution": {
     "iopub.execute_input": "2025-02-25T22:42:28.452348Z",
     "iopub.status.busy": "2025-02-25T22:42:28.451958Z",
     "iopub.status.idle": "2025-02-25T22:42:28.455401Z",
     "shell.execute_reply": "2025-02-25T22:42:28.454770Z"
    },
    "nbsphinx": "hidden"
   },
   "outputs": [],
   "source": [
    "assert isinstance(loss, pd.DataFrame)\n",
    "\n",
    "loss_vals = loss['repair_cost'].to_numpy()"
   ]
  },
  {
   "cell_type": "code",
   "execution_count": 10,
   "id": "d654d141",
   "metadata": {
    "execution": {
     "iopub.execute_input": "2025-02-25T22:42:28.457381Z",
     "iopub.status.busy": "2025-02-25T22:42:28.457029Z",
     "iopub.status.idle": "2025-02-25T22:42:28.462602Z",
     "shell.execute_reply": "2025-02-25T22:42:28.461948Z"
    },
    "nbsphinx": "hidden"
   },
   "outputs": [],
   "source": [
    "# sample median should be close to 0.05\n",
    "assert np.allclose(np.median(loss_vals), 0.05, atol=1e-2)\n",
    "# dispersion should be close to 0.9\n",
    "assert np.allclose(np.log(loss_vals).std(), 0.90, atol=1e-2)"
   ]
  }
 ],
 "metadata": {
  "jupytext": {
   "cell_metadata_filter": "nbsphinx,-all",
   "main_language": "python",
   "notebook_metadata_filter": "-all",
   "text_representation": {
    "extension": ".py",
    "format_name": "percent"
   }
  },
  "language_info": {
   "codemirror_mode": {
    "name": "ipython",
    "version": 3
   },
   "file_extension": ".py",
   "mimetype": "text/x-python",
   "name": "python",
   "nbconvert_exporter": "python",
   "pygments_lexer": "ipython3",
   "version": "3.10.16"
  }
 },
 "nbformat": 4,
 "nbformat_minor": 5
}
