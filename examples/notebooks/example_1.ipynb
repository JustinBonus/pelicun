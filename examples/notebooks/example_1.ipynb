{
 "cells": [
  {
   "cell_type": "markdown",
   "id": "13b7a074",
   "metadata": {},
   "source": [
    "# Example 1: Simple loss function."
   ]
  },
  {
   "cell_type": "markdown",
   "id": "fd5f4e26",
   "metadata": {
    "cell_marker": "\"\"\""
   },
   "source": [
    "In this example, a single loss function is defined as a 1:1 mapping of the input EDP.\n",
    "This means that the resulting loss distribution will be the same as the EDP distribution, allowing us to test and confirm that this is what happens."
   ]
  },
  {
   "cell_type": "code",
   "execution_count": 1,
   "id": "0cda6293",
   "metadata": {
    "execution": {
     "iopub.execute_input": "2025-02-10T22:51:49.160028Z",
     "iopub.status.busy": "2025-02-10T22:51:49.159812Z",
     "iopub.status.idle": "2025-02-10T22:51:49.766970Z",
     "shell.execute_reply": "2025-02-10T22:51:49.766313Z"
    }
   },
   "outputs": [],
   "source": [
    "from __future__ import annotations\n",
    "\n",
    "import numpy as np\n",
    "import pandas as pd\n",
    "\n",
    "from pelicun import assessment, file_io"
   ]
  },
  {
   "cell_type": "code",
   "execution_count": 2,
   "id": "8cab9075",
   "metadata": {
    "execution": {
     "iopub.execute_input": "2025-02-10T22:51:49.769285Z",
     "iopub.status.busy": "2025-02-10T22:51:49.769016Z",
     "iopub.status.idle": "2025-02-10T22:51:49.772112Z",
     "shell.execute_reply": "2025-02-10T22:51:49.771543Z"
    }
   },
   "outputs": [],
   "source": [
    "sample_size = 100000"
   ]
  },
  {
   "cell_type": "code",
   "execution_count": 3,
   "id": "99a3fe6f",
   "metadata": {
    "execution": {
     "iopub.execute_input": "2025-02-10T22:51:49.774032Z",
     "iopub.status.busy": "2025-02-10T22:51:49.773810Z",
     "iopub.status.idle": "2025-02-10T22:51:49.777987Z",
     "shell.execute_reply": "2025-02-10T22:51:49.777443Z"
    }
   },
   "outputs": [],
   "source": [
    "# initialize a pelicun assessment\n",
    "asmnt = assessment.Assessment({'PrintLog': False, 'Seed': 42})"
   ]
  },
  {
   "cell_type": "code",
   "execution_count": 4,
   "id": "8223e06a",
   "metadata": {
    "execution": {
     "iopub.execute_input": "2025-02-10T22:51:49.780004Z",
     "iopub.status.busy": "2025-02-10T22:51:49.779525Z",
     "iopub.status.idle": "2025-02-10T22:51:49.833483Z",
     "shell.execute_reply": "2025-02-10T22:51:49.832729Z"
    }
   },
   "outputs": [],
   "source": [
    "\n",
    "#\n",
    "# Demands\n",
    "#\n",
    "\n",
    "demands = pd.DataFrame(\n",
    "    {\n",
    "        'Theta_0': [0.50],\n",
    "        'Theta_1': [0.90],\n",
    "        'Family': ['lognormal'],\n",
    "        'Units': ['mps2'],\n",
    "    },\n",
    "    index=pd.MultiIndex.from_tuples(\n",
    "        [\n",
    "            ('PFA', '0', '1'),\n",
    "        ],\n",
    "    ),\n",
    ")\n",
    "\n",
    "asmnt.demand.load_model({'marginals': demands})\n",
    "\n",
    "asmnt.demand.generate_sample({'SampleSize': sample_size})\n",
    "\n",
    "#\n",
    "# Asset\n",
    "#\n",
    "\n",
    "asmnt.stories = 1\n",
    "\n",
    "cmp_marginals = pd.read_csv('example_1/CMP_marginals.csv', index_col=0)\n",
    "cmp_marginals['Blocks'] = cmp_marginals['Blocks']\n",
    "asmnt.asset.load_cmp_model({'marginals': cmp_marginals})\n",
    "\n",
    "asmnt.asset.generate_cmp_sample(sample_size)"
   ]
  },
  {
   "cell_type": "code",
   "execution_count": 5,
   "id": "71233b17",
   "metadata": {
    "execution": {
     "iopub.execute_input": "2025-02-10T22:51:49.835880Z",
     "iopub.status.busy": "2025-02-10T22:51:49.835653Z",
     "iopub.status.idle": "2025-02-10T22:51:49.838428Z",
     "shell.execute_reply": "2025-02-10T22:51:49.837892Z"
    }
   },
   "outputs": [],
   "source": [
    "#\n",
    "# Damage\n",
    "#\n",
    "\n",
    "# nothing to do here."
   ]
  },
  {
   "cell_type": "code",
   "execution_count": 6,
   "id": "36dee7b6",
   "metadata": {
    "execution": {
     "iopub.execute_input": "2025-02-10T22:51:49.840356Z",
     "iopub.status.busy": "2025-02-10T22:51:49.840156Z",
     "iopub.status.idle": "2025-02-10T22:51:49.850602Z",
     "shell.execute_reply": "2025-02-10T22:51:49.850101Z"
    },
    "lines_to_next_cell": 0
   },
   "outputs": [],
   "source": [
    "#\n",
    "# Losses\n",
    "#\n",
    "\n",
    "asmnt.loss.decision_variables = ('Cost',)\n",
    "\n",
    "loss_map = pd.DataFrame(['cmp.A'], columns=['Repair'], index=['cmp.A'])\n",
    "asmnt.loss.add_loss_map(loss_map)\n",
    "\n",
    "loss_functions = file_io.load_data(\n",
    "    'example_1/loss_functions.csv',\n",
    "    reindex=False,\n",
    "    unit_conversion_factors=asmnt.unit_conversion_factors,\n",
    ")"
   ]
  },
  {
   "cell_type": "code",
   "execution_count": 7,
   "id": "9b68c79a",
   "metadata": {
    "execution": {
     "iopub.execute_input": "2025-02-10T22:51:49.852373Z",
     "iopub.status.busy": "2025-02-10T22:51:49.852178Z",
     "iopub.status.idle": "2025-02-10T22:51:49.855256Z",
     "shell.execute_reply": "2025-02-10T22:51:49.854694Z"
    },
    "lines_to_next_cell": 0,
    "nbsphinx": "hidden"
   },
   "outputs": [],
   "source": [
    "assert isinstance(loss_functions, pd.DataFrame)"
   ]
  },
  {
   "cell_type": "code",
   "execution_count": 8,
   "id": "b9646336",
   "metadata": {
    "execution": {
     "iopub.execute_input": "2025-02-10T22:51:49.856976Z",
     "iopub.status.busy": "2025-02-10T22:51:49.856765Z",
     "iopub.status.idle": "2025-02-10T22:51:49.952657Z",
     "shell.execute_reply": "2025-02-10T22:51:49.952068Z"
    },
    "lines_to_next_cell": 0
   },
   "outputs": [],
   "source": [
    "asmnt.loss.load_model_parameters([loss_functions])\n",
    "asmnt.loss.calculate()\n",
    "\n",
    "loss, _ = asmnt.loss.aggregate_losses(future=True)"
   ]
  },
  {
   "cell_type": "code",
   "execution_count": 9,
   "id": "b30408f1",
   "metadata": {
    "execution": {
     "iopub.execute_input": "2025-02-10T22:51:49.954859Z",
     "iopub.status.busy": "2025-02-10T22:51:49.954649Z",
     "iopub.status.idle": "2025-02-10T22:51:49.958075Z",
     "shell.execute_reply": "2025-02-10T22:51:49.957500Z"
    },
    "nbsphinx": "hidden"
   },
   "outputs": [],
   "source": [
    "assert isinstance(loss, pd.DataFrame)\n",
    "\n",
    "loss_vals = loss['repair_cost'].to_numpy()"
   ]
  },
  {
   "cell_type": "code",
   "execution_count": 10,
   "id": "32f7e00c",
   "metadata": {
    "execution": {
     "iopub.execute_input": "2025-02-10T22:51:49.959865Z",
     "iopub.status.busy": "2025-02-10T22:51:49.959668Z",
     "iopub.status.idle": "2025-02-10T22:51:49.964634Z",
     "shell.execute_reply": "2025-02-10T22:51:49.964145Z"
    },
    "nbsphinx": "hidden"
   },
   "outputs": [],
   "source": [
    "# sample median should be close to 0.05\n",
    "assert np.allclose(np.median(loss_vals), 0.05, atol=1e-2)\n",
    "# dispersion should be close to 0.9\n",
    "assert np.allclose(np.log(loss_vals).std(), 0.90, atol=1e-2)"
   ]
  }
 ],
 "metadata": {
  "jupytext": {
   "cell_metadata_filter": "nbsphinx,-all",
   "main_language": "python",
   "notebook_metadata_filter": "-all",
   "text_representation": {
    "extension": ".py",
    "format_name": "percent"
   }
  },
  "language_info": {
   "codemirror_mode": {
    "name": "ipython",
    "version": 3
   },
   "file_extension": ".py",
   "mimetype": "text/x-python",
   "name": "python",
   "nbconvert_exporter": "python",
   "pygments_lexer": "ipython3",
   "version": "3.10.16"
  }
 },
 "nbformat": 4,
 "nbformat_minor": 5
}
