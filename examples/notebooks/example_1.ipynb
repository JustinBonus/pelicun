{
 "cells": [
  {
   "cell_type": "markdown",
   "id": "56ce847b",
   "metadata": {},
   "source": [
    "# Example 1: Simple loss function."
   ]
  },
  {
   "cell_type": "markdown",
   "id": "5c6162b5",
   "metadata": {
    "cell_marker": "\"\"\""
   },
   "source": [
    "In this example, a single loss function is defined as a 1:1 mapping of the input EDP.\n",
    "This means that the resulting loss distribution will be the same as the EDP distribution, allowing us to test and confirm that this is what happens."
   ]
  },
  {
   "cell_type": "code",
   "execution_count": 1,
   "id": "18ab36ca",
   "metadata": {
    "execution": {
     "iopub.execute_input": "2025-01-31T04:31:14.215166Z",
     "iopub.status.busy": "2025-01-31T04:31:14.214975Z",
     "iopub.status.idle": "2025-01-31T04:31:14.806490Z",
     "shell.execute_reply": "2025-01-31T04:31:14.805897Z"
    }
   },
   "outputs": [],
   "source": [
    "from __future__ import annotations\n",
    "\n",
    "import numpy as np\n",
    "import pandas as pd\n",
    "\n",
    "from pelicun import assessment, file_io"
   ]
  },
  {
   "cell_type": "code",
   "execution_count": 2,
   "id": "b8eb5ae1",
   "metadata": {
    "execution": {
     "iopub.execute_input": "2025-01-31T04:31:14.808792Z",
     "iopub.status.busy": "2025-01-31T04:31:14.808536Z",
     "iopub.status.idle": "2025-01-31T04:31:14.811594Z",
     "shell.execute_reply": "2025-01-31T04:31:14.811038Z"
    }
   },
   "outputs": [],
   "source": [
    "sample_size = 100000"
   ]
  },
  {
   "cell_type": "code",
   "execution_count": 3,
   "id": "be37678c",
   "metadata": {
    "execution": {
     "iopub.execute_input": "2025-01-31T04:31:14.813485Z",
     "iopub.status.busy": "2025-01-31T04:31:14.813271Z",
     "iopub.status.idle": "2025-01-31T04:31:14.817285Z",
     "shell.execute_reply": "2025-01-31T04:31:14.816781Z"
    }
   },
   "outputs": [],
   "source": [
    "# initialize a pelicun assessment\n",
    "asmnt = assessment.Assessment({'PrintLog': False, 'Seed': 42})"
   ]
  },
  {
   "cell_type": "code",
   "execution_count": 4,
   "id": "4f4838e7",
   "metadata": {
    "execution": {
     "iopub.execute_input": "2025-01-31T04:31:14.818980Z",
     "iopub.status.busy": "2025-01-31T04:31:14.818794Z",
     "iopub.status.idle": "2025-01-31T04:31:14.930864Z",
     "shell.execute_reply": "2025-01-31T04:31:14.930209Z"
    }
   },
   "outputs": [],
   "source": [
    "\n",
    "#\n",
    "# Demands\n",
    "#\n",
    "\n",
    "demands = pd.DataFrame(\n",
    "    {\n",
    "        'Theta_0': [0.50],\n",
    "        'Theta_1': [0.90],\n",
    "        'Family': ['lognormal'],\n",
    "        'Units': ['mps2'],\n",
    "    },\n",
    "    index=pd.MultiIndex.from_tuples(\n",
    "        [\n",
    "            ('PFA', '0', '1'),\n",
    "        ],\n",
    "    ),\n",
    ")\n",
    "\n",
    "asmnt.demand.load_model({'marginals': demands})\n",
    "\n",
    "asmnt.demand.generate_sample({'SampleSize': sample_size})\n",
    "\n",
    "#\n",
    "# Asset\n",
    "#\n",
    "\n",
    "asmnt.stories = 1\n",
    "\n",
    "cmp_marginals = pd.read_csv('example_1/CMP_marginals.csv', index_col=0)\n",
    "cmp_marginals['Blocks'] = cmp_marginals['Blocks']\n",
    "asmnt.asset.load_cmp_model({'marginals': cmp_marginals})\n",
    "\n",
    "asmnt.asset.generate_cmp_sample(sample_size)"
   ]
  },
  {
   "cell_type": "code",
   "execution_count": 5,
   "id": "de5d034c",
   "metadata": {
    "execution": {
     "iopub.execute_input": "2025-01-31T04:31:14.933345Z",
     "iopub.status.busy": "2025-01-31T04:31:14.932956Z",
     "iopub.status.idle": "2025-01-31T04:31:14.935661Z",
     "shell.execute_reply": "2025-01-31T04:31:14.935119Z"
    }
   },
   "outputs": [],
   "source": [
    "#\n",
    "# Damage\n",
    "#\n",
    "\n",
    "# nothing to do here."
   ]
  },
  {
   "cell_type": "code",
   "execution_count": 6,
   "id": "d2313f99",
   "metadata": {
    "execution": {
     "iopub.execute_input": "2025-01-31T04:31:14.937576Z",
     "iopub.status.busy": "2025-01-31T04:31:14.937192Z",
     "iopub.status.idle": "2025-01-31T04:31:14.947380Z",
     "shell.execute_reply": "2025-01-31T04:31:14.946877Z"
    },
    "lines_to_next_cell": 0
   },
   "outputs": [],
   "source": [
    "#\n",
    "# Losses\n",
    "#\n",
    "\n",
    "asmnt.loss.decision_variables = ('Cost',)\n",
    "\n",
    "loss_map = pd.DataFrame(['cmp.A'], columns=['Repair'], index=['cmp.A'])\n",
    "asmnt.loss.add_loss_map(loss_map)\n",
    "\n",
    "loss_functions = file_io.load_data(\n",
    "    'example_1/loss_functions.csv',\n",
    "    reindex=False,\n",
    "    unit_conversion_factors=asmnt.unit_conversion_factors,\n",
    ")"
   ]
  },
  {
   "cell_type": "code",
   "execution_count": 7,
   "id": "22ecb81b",
   "metadata": {
    "execution": {
     "iopub.execute_input": "2025-01-31T04:31:14.949206Z",
     "iopub.status.busy": "2025-01-31T04:31:14.948860Z",
     "iopub.status.idle": "2025-01-31T04:31:14.951723Z",
     "shell.execute_reply": "2025-01-31T04:31:14.951178Z"
    },
    "lines_to_next_cell": 0,
    "nbsphinx": "hidden"
   },
   "outputs": [],
   "source": [
    "assert isinstance(loss_functions, pd.DataFrame)"
   ]
  },
  {
   "cell_type": "code",
   "execution_count": 8,
   "id": "8ba3d98d",
   "metadata": {
    "execution": {
     "iopub.execute_input": "2025-01-31T04:31:14.953615Z",
     "iopub.status.busy": "2025-01-31T04:31:14.953255Z",
     "iopub.status.idle": "2025-01-31T04:31:15.048741Z",
     "shell.execute_reply": "2025-01-31T04:31:15.048021Z"
    },
    "lines_to_next_cell": 0
   },
   "outputs": [],
   "source": [
    "asmnt.loss.load_model_parameters([loss_functions])\n",
    "asmnt.loss.calculate()\n",
    "\n",
    "loss, _ = asmnt.loss.aggregate_losses(future=True)"
   ]
  },
  {
   "cell_type": "code",
   "execution_count": 9,
   "id": "a9222b3f",
   "metadata": {
    "execution": {
     "iopub.execute_input": "2025-01-31T04:31:15.051156Z",
     "iopub.status.busy": "2025-01-31T04:31:15.050782Z",
     "iopub.status.idle": "2025-01-31T04:31:15.054087Z",
     "shell.execute_reply": "2025-01-31T04:31:15.053474Z"
    },
    "nbsphinx": "hidden"
   },
   "outputs": [],
   "source": [
    "assert isinstance(loss, pd.DataFrame)\n",
    "\n",
    "loss_vals = loss['repair_cost'].to_numpy()"
   ]
  },
  {
   "cell_type": "code",
   "execution_count": 10,
   "id": "ddda942b",
   "metadata": {
    "execution": {
     "iopub.execute_input": "2025-01-31T04:31:15.056287Z",
     "iopub.status.busy": "2025-01-31T04:31:15.055926Z",
     "iopub.status.idle": "2025-01-31T04:31:15.061389Z",
     "shell.execute_reply": "2025-01-31T04:31:15.060734Z"
    },
    "nbsphinx": "hidden"
   },
   "outputs": [],
   "source": [
    "# sample median should be close to 0.05\n",
    "assert np.allclose(np.median(loss_vals), 0.05, atol=1e-2)\n",
    "# dispersion should be close to 0.9\n",
    "assert np.allclose(np.log(loss_vals).std(), 0.90, atol=1e-2)"
   ]
  }
 ],
 "metadata": {
  "jupytext": {
   "cell_metadata_filter": "nbsphinx,-all",
   "main_language": "python",
   "notebook_metadata_filter": "-all",
   "text_representation": {
    "extension": ".py",
    "format_name": "percent"
   }
  },
  "language_info": {
   "codemirror_mode": {
    "name": "ipython",
    "version": 3
   },
   "file_extension": ".py",
   "mimetype": "text/x-python",
   "name": "python",
   "nbconvert_exporter": "python",
   "pygments_lexer": "ipython3",
   "version": "3.10.16"
  }
 },
 "nbformat": 4,
 "nbformat_minor": 5
}
